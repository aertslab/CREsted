{
 "cells": [
  {
   "cell_type": "markdown",
   "metadata": {},
   "source": [
    "# Multi GPU training with Tensorflow"
   ]
  },
  {
   "cell_type": "markdown",
   "metadata": {},
   "source": [
    "Training on multiple GPUs is currently on the roadmap of keras 3.0 for both Tensorflow and Pytorch backend.  \n",
    "Until this is implemented in Keras 3.0, we don't include multi GPU training inside the `Crested` trainer class, but you can still train on multiple GPU's using the standard Tensorflow's `tf.distribute.MirroredStrategy`.  \n",
    "You only need to wrap your model creation and training inside the `strategy.scope()` context manager.  \n",
    "Data preparation is the same as in the single GPU case."
   ]
  },
  {
   "cell_type": "markdown",
   "metadata": {},
   "source": [
    "## Example\n",
    "\n",
    "```python\n",
    "import tensorflow as tf\n",
    "\n",
    "strategy = tf.distribute.MirroredStrategy()\n",
    "\n",
    "config = crested.tl.default_configs(\"peak_regression\")\n",
    "\n",
    "datamodule = crested.tl.data.AnnDataModule(\n",
    "        my_adata,\n",
    "        genome_file=my_genome,\n",
    "        chromsizes_file=my_chromsizes_file,\n",
    "        batch_size=128,\n",
    "        max_stochastic_shift=5,\n",
    "        shuffle=True,\n",
    "    )\n",
    "\n",
    "with strategy.scope():\n",
    "    model_architecture = crested.tl.zoo.chrombpnet(seq_len=2114, num_classes=4)\n",
    "    \n",
    "    trainer = crested.tl.Crested(\n",
    "            data=datamodule,\n",
    "            model=model_architecture,\n",
    "            config=config,\n",
    "            project_name=\"test_project\",\n",
    "            run_name=\"test_run\",\n",
    "            logger=\"wandb\",\n",
    "        )\n",
    "\n",
    "    trainer.fit(epochs=50)\n",
    "```"
   ]
  }
 ],
 "metadata": {
  "kernelspec": {
   "display_name": "crested",
   "language": "python",
   "name": "python3"
  },
  "language_info": {
   "codemirror_mode": {
    "name": "ipython",
    "version": 3
   },
   "file_extension": ".py",
   "mimetype": "text/x-python",
   "name": "python",
   "nbconvert_exporter": "python",
   "pygments_lexer": "ipython3",
   "version": "3.11.9"
  }
 },
 "nbformat": 4,
 "nbformat_minor": 2
}
