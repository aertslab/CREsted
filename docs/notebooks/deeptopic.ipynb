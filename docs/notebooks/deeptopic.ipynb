{
 "cells": [
  {
   "cell_type": "markdown",
   "metadata": {},
   "source": [
    "# DeepTopic\n",
    "\n",
    "Sample notebook to train DeepTopic model."
   ]
  },
  {
   "cell_type": "code",
   "execution_count": 1,
   "metadata": {},
   "outputs": [],
   "source": [
    "import crested"
   ]
  },
  {
   "cell_type": "markdown",
   "metadata": {},
   "source": [
    "We can use function {func}`crested.import_topics` to import data into an {class}`anndata.AnnData` object,\n",
    "with the imported topics as the `AnnData.obs` and the consensus peak regions as the `AnnData.var`.."
   ]
  },
  {
   "cell_type": "code",
   "execution_count": 2,
   "metadata": {},
   "outputs": [
    {
     "name": "stderr",
     "output_type": "stream",
     "text": [
      "/lustre1/project/stg_00002/lcb/lmahieu/projects/EnhancerAI/src/enhancerai/_io.py:127: UserWarning: 107610 consensus regions are not open in any topic\n",
      "  warnings.warn(\n"
     ]
    },
    {
     "data": {
      "text/plain": [
       "AnnData object with n_obs × n_vars = 80 × 546993\n",
       "    obs: 'file_path', 'n_open_regions'\n",
       "    var: 'n_topics', 'chr', 'start', 'end'"
      ]
     },
     "execution_count": 2,
     "metadata": {},
     "output_type": "execute_result"
    }
   ],
   "source": [
    "adata = crested.import_topics(\n",
    "    topics_folder=\"/staging/leuven/stg_00002/lcb/lmahieu/projects/DeepTopic/biccn_test/otsu\",\n",
    "    peaks_file=\"/staging/leuven/stg_00002/lcb/lmahieu/projects/DeepTopic/biccn_test/consensus_peaks_bicnn.bed\",\n",
    "    compress=True,\n",
    "    # topics_subset=[\"topic_1\", \"topic_2\"], # optional subset of topics to import\n",
    ")\n",
    "adata"
   ]
  },
  {
   "cell_type": "markdown",
   "metadata": {},
   "source": [
    "The `import_topics` function will also add a couple of columns with variables of interest to your `AnnData.obs` and `Anndata.var` (AnnData.obs.n_open_regions and AnnData.var.n_topics), which you can use to inspect and get a feel of your data."
   ]
  },
  {
   "cell_type": "markdown",
   "metadata": {},
   "source": [
    "To train a model, we'll need to add a *split* column to our dataset, which we can do using {func}`crested.pp.train_val_test_split`.  \n",
    "We can add a `random_state` to ensure the data will be split in the same manner in the future when `shuffle=True`(default)."
   ]
  },
  {
   "cell_type": "code",
   "execution_count": 3,
   "metadata": {},
   "outputs": [
    {
     "name": "stdout",
     "output_type": "stream",
     "text": [
      "split\n",
      "train    437593\n",
      "test      54700\n",
      "val       54700\n",
      "Name: count, dtype: int64\n"
     ]
    },
    {
     "data": {
      "text/html": [
       "<div>\n",
       "<style scoped>\n",
       "    .dataframe tbody tr th:only-of-type {\n",
       "        vertical-align: middle;\n",
       "    }\n",
       "\n",
       "    .dataframe tbody tr th {\n",
       "        vertical-align: top;\n",
       "    }\n",
       "\n",
       "    .dataframe thead th {\n",
       "        text-align: right;\n",
       "    }\n",
       "</style>\n",
       "<table border=\"1\" class=\"dataframe\">\n",
       "  <thead>\n",
       "    <tr style=\"text-align: right;\">\n",
       "      <th></th>\n",
       "      <th>n_topics</th>\n",
       "      <th>chr</th>\n",
       "      <th>start</th>\n",
       "      <th>end</th>\n",
       "      <th>split</th>\n",
       "    </tr>\n",
       "    <tr>\n",
       "      <th>region</th>\n",
       "      <th></th>\n",
       "      <th></th>\n",
       "      <th></th>\n",
       "      <th></th>\n",
       "      <th></th>\n",
       "    </tr>\n",
       "  </thead>\n",
       "  <tbody>\n",
       "    <tr>\n",
       "      <th>chr1:3094805-3095305</th>\n",
       "      <td>5</td>\n",
       "      <td>chr1</td>\n",
       "      <td>3094805</td>\n",
       "      <td>3095305</td>\n",
       "      <td>train</td>\n",
       "    </tr>\n",
       "    <tr>\n",
       "      <th>chr1:3095470-3095970</th>\n",
       "      <td>0</td>\n",
       "      <td>chr1</td>\n",
       "      <td>3095470</td>\n",
       "      <td>3095970</td>\n",
       "      <td>train</td>\n",
       "    </tr>\n",
       "    <tr>\n",
       "      <th>chr1:3112174-3112674</th>\n",
       "      <td>1</td>\n",
       "      <td>chr1</td>\n",
       "      <td>3112174</td>\n",
       "      <td>3112674</td>\n",
       "      <td>test</td>\n",
       "    </tr>\n",
       "    <tr>\n",
       "      <th>chr1:3113534-3114034</th>\n",
       "      <td>2</td>\n",
       "      <td>chr1</td>\n",
       "      <td>3113534</td>\n",
       "      <td>3114034</td>\n",
       "      <td>train</td>\n",
       "    </tr>\n",
       "    <tr>\n",
       "      <th>chr1:3119746-3120246</th>\n",
       "      <td>8</td>\n",
       "      <td>chr1</td>\n",
       "      <td>3119746</td>\n",
       "      <td>3120246</td>\n",
       "      <td>train</td>\n",
       "    </tr>\n",
       "    <tr>\n",
       "      <th>...</th>\n",
       "      <td>...</td>\n",
       "      <td>...</td>\n",
       "      <td>...</td>\n",
       "      <td>...</td>\n",
       "      <td>...</td>\n",
       "    </tr>\n",
       "    <tr>\n",
       "      <th>chrX:169879313-169879813</th>\n",
       "      <td>3</td>\n",
       "      <td>chrX</td>\n",
       "      <td>169879313</td>\n",
       "      <td>169879813</td>\n",
       "      <td>train</td>\n",
       "    </tr>\n",
       "    <tr>\n",
       "      <th>chrX:169880181-169880681</th>\n",
       "      <td>0</td>\n",
       "      <td>chrX</td>\n",
       "      <td>169880181</td>\n",
       "      <td>169880681</td>\n",
       "      <td>train</td>\n",
       "    </tr>\n",
       "    <tr>\n",
       "      <th>chrX:169925477-169925977</th>\n",
       "      <td>1</td>\n",
       "      <td>chrX</td>\n",
       "      <td>169925477</td>\n",
       "      <td>169925977</td>\n",
       "      <td>train</td>\n",
       "    </tr>\n",
       "    <tr>\n",
       "      <th>chrX:169948550-169949050</th>\n",
       "      <td>0</td>\n",
       "      <td>chrX</td>\n",
       "      <td>169948550</td>\n",
       "      <td>169949050</td>\n",
       "      <td>train</td>\n",
       "    </tr>\n",
       "    <tr>\n",
       "      <th>chrX:169950978-169951478</th>\n",
       "      <td>0</td>\n",
       "      <td>chrX</td>\n",
       "      <td>169950978</td>\n",
       "      <td>169951478</td>\n",
       "      <td>val</td>\n",
       "    </tr>\n",
       "  </tbody>\n",
       "</table>\n",
       "<p>546993 rows × 5 columns</p>\n",
       "</div>"
      ],
      "text/plain": [
       "                          n_topics   chr      start        end  split\n",
       "region                                                               \n",
       "chr1:3094805-3095305             5  chr1    3094805    3095305  train\n",
       "chr1:3095470-3095970             0  chr1    3095470    3095970  train\n",
       "chr1:3112174-3112674             1  chr1    3112174    3112674   test\n",
       "chr1:3113534-3114034             2  chr1    3113534    3114034  train\n",
       "chr1:3119746-3120246             8  chr1    3119746    3120246  train\n",
       "...                            ...   ...        ...        ...    ...\n",
       "chrX:169879313-169879813         3  chrX  169879313  169879813  train\n",
       "chrX:169880181-169880681         0  chrX  169880181  169880681  train\n",
       "chrX:169925477-169925977         1  chrX  169925477  169925977  train\n",
       "chrX:169948550-169949050         0  chrX  169948550  169949050  train\n",
       "chrX:169950978-169951478         0  chrX  169950978  169951478    val\n",
       "\n",
       "[546993 rows x 5 columns]"
      ]
     },
     "execution_count": 3,
     "metadata": {},
     "output_type": "execute_result"
    }
   ],
   "source": [
    "# We can split randomly on the regions\n",
    "crested.pp.train_val_test_split(\n",
    "    adata, type=\"random\", val_size=0.1, test_size=0.1, random_state=42\n",
    ")\n",
    "\n",
    "# Or, choose the chromosomes for the validation and test sets\n",
    "# enhai.pp.train_val_test_split(\n",
    "#     adata, type=\"chr\", chr_val=[\"chr4\", \"chrX\"], chr_test=[\"chr2\", \"chr3\"]\n",
    "# )\n",
    "\n",
    "print(adata.var[\"split\"].value_counts())\n",
    "adata.var"
   ]
  },
  {
   "cell_type": "markdown",
   "metadata": {},
   "source": [
    "## Train"
   ]
  }
 ],
 "metadata": {
  "kernelspec": {
   "display_name": "enhancerai",
   "language": "python",
   "name": "python3"
  },
  "language_info": {
   "codemirror_mode": {
    "name": "ipython",
    "version": 3
   },
   "file_extension": ".py",
   "mimetype": "text/x-python",
   "name": "python",
   "nbconvert_exporter": "python",
   "pygments_lexer": "ipython3",
   "version": "3.11.8"
  }
 },
 "nbformat": 4,
 "nbformat_minor": 2
}
